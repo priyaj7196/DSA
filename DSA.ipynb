{
 "cells": [
  {
   "cell_type": "markdown",
   "id": "2dc90b22",
   "metadata": {},
   "source": [
    "# Bubble sort"
   ]
  },
  {
   "cell_type": "code",
   "execution_count": 11,
   "id": "8c336071",
   "metadata": {},
   "outputs": [
    {
     "name": "stdout",
     "output_type": "stream",
     "text": [
      "[1, 2, 3, 4]\n"
     ]
    }
   ],
   "source": [
    "def bubble_sort(a):\n",
    "    n = len(a)\n",
    "    for i in range(n):\n",
    "        # Last i elements are already in place\n",
    "        for j in range(0, n - i - 1):\n",
    "            if a[j] > a[j + 1]:\n",
    "                # Swap if the element found is greater than the next element\n",
    "                a[j], a[j + 1] = a[j + 1], a[j]\n",
    "\n",
    "# Example usage\n",
    "a = [4, 2, 1, 3]\n",
    "bubble_sort(a)\n",
    "print(a)\n"
   ]
  },
  {
   "cell_type": "markdown",
   "id": "a2d85de8",
   "metadata": {},
   "source": [
    "# Selection Sort"
   ]
  },
  {
   "cell_type": "code",
   "execution_count": 1,
   "id": "13e5f9a7",
   "metadata": {},
   "outputs": [],
   "source": [
    "def selectionsort(arr):\n",
    "    n = len(arr)\n",
    "    print(range(n))\n",
    "    for i in range(n):\n",
    "        min_index = i\n",
    "        for j in range(i + 1, n):\n",
    "            if arr[j] < arr[min_index]:\n",
    "                min_index = j\n",
    "        # Swap arr[i] and arr[min_index]\n",
    "        arr[i], arr[min_index] = arr[min_index], arr[i]\n",
    "    print(arr)\n"
   ]
  },
  {
   "cell_type": "code",
   "execution_count": 2,
   "id": "4d4c9147",
   "metadata": {},
   "outputs": [
    {
     "name": "stdout",
     "output_type": "stream",
     "text": [
      "4\n",
      "2\n",
      "1\n",
      "3\n"
     ]
    }
   ],
   "source": [
    "a=[4,2,1,3]\n",
    "n=len(a)\n",
    "for i in range(0,n):\n",
    "    print(a[i])"
   ]
  },
  {
   "cell_type": "markdown",
   "id": "9438bd26",
   "metadata": {},
   "source": [
    "# Insertion Sort"
   ]
  },
  {
   "cell_type": "code",
   "execution_count": 3,
   "id": "a8c0ec53",
   "metadata": {},
   "outputs": [],
   "source": [
    "def insertionsort(a):\n",
    "    n=len(a)\n",
    "    for i in range(1,n):\n",
    "        temp=a[i]\n",
    "        j=i-1\n",
    "        while (j>=0 and a[j]>temp):\n",
    "                a[j+1]=a[j]\n",
    "                j-=1\n",
    "        a[j+1]=temp\n",
    "    return a\n",
    "        "
   ]
  },
  {
   "cell_type": "code",
   "execution_count": 4,
   "id": "b59e311e",
   "metadata": {},
   "outputs": [
    {
     "name": "stdout",
     "output_type": "stream",
     "text": [
      "[1, 2, 3, 4]\n"
     ]
    }
   ],
   "source": [
    "a=[4,2,1,3]\n",
    "x=insertionsort(a)\n",
    "print(x)"
   ]
  },
  {
   "cell_type": "markdown",
   "id": "f0fc5fac",
   "metadata": {},
   "source": [
    "# Merge Sort"
   ]
  },
  {
   "cell_type": "code",
   "execution_count": 9,
   "id": "4519f144",
   "metadata": {},
   "outputs": [],
   "source": [
    "def mergesort(a, start, end):\n",
    "    if start >= end:\n",
    "        return\n",
    "\n",
    "    mid = (start + end) // 2\n",
    "    mergesort(a, start, mid)\n",
    "    mergesort(a, mid + 1, end)\n",
    "\n",
    "    # Merge the sorted halves\n",
    "    i = start\n",
    "    j = mid + 1\n",
    "    b = []\n",
    "\n",
    "    while i <= mid and j <= end:\n",
    "        if a[i] < a[j]:\n",
    "            b.append(a[i])\n",
    "            i += 1\n",
    "        else:\n",
    "            b.append(a[j])\n",
    "            j += 1\n",
    "\n",
    "    while i <= mid:\n",
    "        b.append(a[i])\n",
    "        i += 1\n",
    "\n",
    "    while j <= end:\n",
    "        b.append(a[j])\n",
    "        j += 1\n",
    "\n",
    "    # Copy sorted elements back into original list\n",
    "    for i in range(len(b)):\n",
    "        a[start + i] = b[i]\n",
    "    "
   ]
  },
  {
   "cell_type": "code",
   "execution_count": 10,
   "id": "316b1a06",
   "metadata": {},
   "outputs": [
    {
     "name": "stdout",
     "output_type": "stream",
     "text": [
      "[1, 2, 3, 4]\n"
     ]
    }
   ],
   "source": [
    "# Example usage\n",
    "a = [4, 2, 1, 3]\n",
    "mergesort(a, 0, len(a) - 1)\n",
    "print(a)\n"
   ]
  },
  {
   "cell_type": "code",
   "execution_count": null,
   "id": "0161f882",
   "metadata": {},
   "outputs": [],
   "source": []
  },
  {
   "cell_type": "code",
   "execution_count": null,
   "id": "24afb16c",
   "metadata": {},
   "outputs": [],
   "source": []
  }
 ],
 "metadata": {
  "kernelspec": {
   "display_name": "Python 3 (ipykernel)",
   "language": "python",
   "name": "python3"
  },
  "language_info": {
   "codemirror_mode": {
    "name": "ipython",
    "version": 3
   },
   "file_extension": ".py",
   "mimetype": "text/x-python",
   "name": "python",
   "nbconvert_exporter": "python",
   "pygments_lexer": "ipython3",
   "version": "3.10.9"
  }
 },
 "nbformat": 4,
 "nbformat_minor": 5
}
