{
 "cells": [
  {
   "cell_type": "markdown",
   "id": "1a3a905f",
   "metadata": {},
   "source": [
    "# Bubble sort"
   ]
  },
  {
   "cell_type": "code",
   "execution_count": 11,
   "id": "974d4b0d",
   "metadata": {},
   "outputs": [
    {
     "name": "stdout",
     "output_type": "stream",
     "text": [
      "[1, 2, 3, 4]\n"
     ]
    }
   ],
   "source": [
    "def bubble_sort(a):\n",
    "    n = len(a)\n",
    "    for i in range(n):\n",
    "        # Last i elements are already in place\n",
    "        for j in range(0, n - i - 1):\n",
    "            if a[j] > a[j + 1]:\n",
    "                # Swap if the element found is greater than the next element\n",
    "                a[j], a[j + 1] = a[j + 1], a[j]\n",
    "\n",
    "# Example usage\n",
    "a = [4, 2, 1, 3]\n",
    "bubble_sort(a)\n",
    "print(a)\n"
   ]
  },
  {
   "cell_type": "markdown",
   "id": "e947ea7e",
   "metadata": {},
   "source": [
    "# Selection Sort"
   ]
  },
  {
   "cell_type": "code",
   "execution_count": 1,
   "id": "6e324975",
   "metadata": {},
   "outputs": [],
   "source": [
    "def selectionsort(arr):\n",
    "    n = len(arr)\n",
    "    print(range(n))\n",
    "    for i in range(n):\n",
    "        min_index = i\n",
    "        for j in range(i + 1, n):\n",
    "            if arr[j] < arr[min_index]:\n",
    "                min_index = j\n",
    "        # Swap arr[i] and arr[min_index]\n",
    "        arr[i], arr[min_index] = arr[min_index], arr[i]\n",
    "    print(arr)\n"
   ]
  },
  {
   "cell_type": "code",
   "execution_count": 2,
   "id": "2433bfbc",
   "metadata": {},
   "outputs": [
    {
     "name": "stdout",
     "output_type": "stream",
     "text": [
      "4\n",
      "2\n",
      "1\n",
      "3\n"
     ]
    }
   ],
   "source": [
    "a=[4,2,1,3]\n",
    "n=len(a)\n",
    "for i in range(0,n):\n",
    "    print(a[i])"
   ]
  },
  {
   "cell_type": "markdown",
   "id": "94c64122",
   "metadata": {},
   "source": [
    "# Insertion Sort"
   ]
  },
  {
   "cell_type": "code",
   "execution_count": 3,
   "id": "671da0fc",
   "metadata": {},
   "outputs": [],
   "source": [
    "def insertionsort(a):\n",
    "    n=len(a)\n",
    "    for i in range(1,n):\n",
    "        temp=a[i]\n",
    "        j=i-1\n",
    "        while (j>=0 and a[j]>temp):\n",
    "                a[j+1]=a[j]\n",
    "                j-=1\n",
    "        a[j+1]=temp\n",
    "    return a\n",
    "        "
   ]
  },
  {
   "cell_type": "code",
   "execution_count": 4,
   "id": "e9180203",
   "metadata": {},
   "outputs": [
    {
     "name": "stdout",
     "output_type": "stream",
     "text": [
      "[1, 2, 3, 4]\n"
     ]
    }
   ],
   "source": [
    "a=[4,2,1,3]\n",
    "x=insertionsort(a)\n",
    "print(x)"
   ]
  },
  {
   "cell_type": "markdown",
   "id": "0f758e9c",
   "metadata": {},
   "source": [
    "# Merge Sort"
   ]
  },
  {
   "cell_type": "code",
   "execution_count": 1,
   "id": "f012b6ce",
   "metadata": {},
   "outputs": [],
   "source": [
    "def mergesort(a, start, end):\n",
    "    if start >= end:\n",
    "        return\n",
    "\n",
    "    mid = (start + end) // 2\n",
    "    mergesort(a, start, mid)\n",
    "    mergesort(a, mid + 1, end)\n",
    "\n",
    "    # Merge the sorted halves\n",
    "    i = start\n",
    "    j = mid + 1\n",
    "    b = []\n",
    "\n",
    "    while i <= mid and j <= end:\n",
    "        if a[i] <= a[j]:\n",
    "            b.append(a[i])\n",
    "            i += 1\n",
    "        else:\n",
    "            b.append(a[j])\n",
    "            j += 1\n",
    "\n",
    "    while i <= mid:\n",
    "        b.append(a[i])\n",
    "        i += 1\n",
    "\n",
    "    while j <= end:\n",
    "        b.append(a[j])\n",
    "        j += 1\n",
    "\n",
    "    # Copy sorted elements back into original list\n",
    "    for i in range(len(b)):\n",
    "        a[start + i] = b[i]\n",
    "    "
   ]
  },
  {
   "cell_type": "code",
   "execution_count": 3,
   "id": "8a1f3766",
   "metadata": {},
   "outputs": [
    {
     "name": "stdout",
     "output_type": "stream",
     "text": [
      "[1, 2, 3, 3, 4, 4]\n"
     ]
    }
   ],
   "source": [
    "# Example usage\n",
    "a = [4, 2, 1, 3,3,4]\n",
    "mergesort(a, 0, len(a) - 1)\n",
    "print(a)\n"
   ]
  },
  {
   "cell_type": "markdown",
   "id": "750498da",
   "metadata": {},
   "source": [
    "# Quick Sort"
   ]
  },
  {
   "cell_type": "code",
   "execution_count": 13,
   "id": "5a2c1f46",
   "metadata": {},
   "outputs": [
    {
     "name": "stdout",
     "output_type": "stream",
     "text": [
      "[2, 3, 4, 5, 6, 7, 9]\n"
     ]
    }
   ],
   "source": [
    "def quick_sort(arr):\n",
    "    def _quick_sort(arr, low, high):\n",
    "        if low < high:\n",
    "            pi = partition(arr, low, high)\n",
    "            _quick_sort(arr, low, pi - 1)\n",
    "            _quick_sort(arr, pi + 1, high)\n",
    "\n",
    "    def partition(arr, low, high):\n",
    "        pivot = arr[high]\n",
    "        i = low - 1\n",
    "        for j in range(low, high):\n",
    "            if arr[j] < pivot:\n",
    "                i += 1\n",
    "                arr[i], arr[j] = arr[j], arr[i]\n",
    "        arr[i + 1], arr[high] = arr[high], arr[i + 1]\n",
    "        return i + 1\n",
    "\n",
    "    _quick_sort(arr, 0, len(arr) - 1)\n",
    "x=[5,7,3,2,9,6,4]\n",
    "quick_sort(x)\n",
    "print(x)"
   ]
  },
  {
   "cell_type": "markdown",
   "id": "d53ccf84",
   "metadata": {},
   "source": [
    "# Heap Sort"
   ]
  },
  {
   "cell_type": "code",
   "execution_count": 14,
   "id": "c13d1812",
   "metadata": {},
   "outputs": [
    {
     "name": "stdout",
     "output_type": "stream",
     "text": [
      "Sorted array is: [1, 2, 3, 4, 4, 5, 5, 10, 67, 88]\n"
     ]
    }
   ],
   "source": [
    "def heapify(arr, n, i):\n",
    "    largest = i\n",
    "    left = 2 * i + 1\n",
    "    right = 2 * i + 2\n",
    "\n",
    "    # Check if left child exists and is greater than root\n",
    "    if left < n and arr[left] > arr[largest]:\n",
    "        largest = left\n",
    "\n",
    "    # Check if right child exists and is greater than largest so far\n",
    "    if right < n and arr[right] > arr[largest]:\n",
    "        largest = right\n",
    "\n",
    "    # If root is not largest, swap and continue heapifying\n",
    "    if largest != i:\n",
    "        arr[i], arr[largest] = arr[largest], arr[i]\n",
    "        heapify(arr, n, largest)  # Recursive call on affected subtree\n",
    "\n",
    "def heap_sort(arr):\n",
    "    n = len(arr)\n",
    "\n",
    "    # Build max heap\n",
    "    for i in range(n // 2 - 1, -1, -1):\n",
    "        heapify(arr, n, i)\n",
    "\n",
    "    # One by one extract elements\n",
    "    for i in range(n - 1, 0, -1):\n",
    "        arr[i], arr[0] = arr[0], arr[i]  # swap\n",
    "        heapify(arr, i, 0)\n",
    "\n",
    "# Example usage\n",
    "arr = [4, 10, 3, 5, 1,2,4,5,67,88]\n",
    "heap_sort(arr)\n",
    "print(\"Sorted array is:\", arr)\n"
   ]
  },
  {
   "cell_type": "code",
   "execution_count": null,
   "id": "20bcb487",
   "metadata": {},
   "outputs": [],
   "source": []
  }
 ],
 "metadata": {
  "kernelspec": {
   "display_name": "Python 3 (ipykernel)",
   "language": "python",
   "name": "python3"
  },
  "language_info": {
   "codemirror_mode": {
    "name": "ipython",
    "version": 3
   },
   "file_extension": ".py",
   "mimetype": "text/x-python",
   "name": "python",
   "nbconvert_exporter": "python",
   "pygments_lexer": "ipython3",
   "version": "3.10.9"
  }
 },
 "nbformat": 4,
 "nbformat_minor": 5
}
